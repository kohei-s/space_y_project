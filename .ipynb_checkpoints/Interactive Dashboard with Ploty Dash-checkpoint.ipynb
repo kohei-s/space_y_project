{
 "cells": [
  {
   "cell_type": "markdown",
   "id": "95ada58b",
   "metadata": {},
   "source": [
    "# Build a Dashboard Application with Plotly Dash"
   ]
  },
  {
   "cell_type": "markdown",
   "id": "2270d26b",
   "metadata": {},
   "source": [
    "## Setup development environment\n",
    "### Install required Python packages"
   ]
  },
  {
   "cell_type": "markdown",
   "id": "894585ec",
   "metadata": {},
   "source": [
    "#### Install python packages required to run the application\n",
    "!pip3 install pandas dash"
   ]
  },
  {
   "cell_type": "markdown",
   "id": "e5633c47",
   "metadata": {},
   "source": [
    "### Download a skeleton dashboard application and dataset"
   ]
  },
  {
   "cell_type": "markdown",
   "id": "fbd1ea9f",
   "metadata": {},
   "source": [
    "#### Download dataset\n",
    "!wget \"https://cf-courses-data.s3.us.cloud-object-storage.appdomain.cloud/IBM-DS0321EN-SkillsNetwork/datasets/spacex_launch_dash.csv\""
   ]
  },
  {
   "cell_type": "markdown",
   "id": "c71b6c21",
   "metadata": {},
   "source": [
    "#### Download a skeleton Dash app to be completed in this lab\n",
    "wget \"https://cf-courses-data.s3.us.cloud-object-storage.appdomain.cloud/IBM-DS0321EN-SkillsNetwork/labs/module_3/spacex_dash_app.py\""
   ]
  },
  {
   "cell_type": "markdown",
   "id": "2aa6f175",
   "metadata": {},
   "source": [
    "## TASK 1: Add a Launch Site Drop-down Input Component"
   ]
  },
  {
   "cell_type": "markdown",
   "id": "6d26c683",
   "metadata": {},
   "source": [
    "We have four different launch sites and we would like to first see which one has the largest success count. Then, we would like to select one specific site and check its detailed success rate (class=0 vs. class=1).\n",
    "\n",
    "As such, we will need a dropdown menu to let us select different launch sites.\n",
    "\n",
    "Find and complete a commented dcc.Dropdown(id='site-dropdown',...) input with following attributes:\n",
    "\n",
    "* id attribute with value site-dropdown\n",
    "* options attribute is a list of dict-like option objects (with label and value attributes). You can set the label and value all to be the launch site names in the spacex_df and you need to include the default All option. e.g., options=[{'label': 'All Sites', 'value': 'ALL'},{'label': 'site1', 'value': 'site1'}, ...]\n",
    "* value attribute with default dropdown value to be ALL meaning all sites are selected\n",
    "* placeholder attribute to show a text description about this input area, such as Select a Launch Site here\n",
    "* searchable attribute to be True so we can enter keywords to search launch sites"
   ]
  },
  {
   "cell_type": "code",
   "execution_count": null,
   "id": "7fd20304",
   "metadata": {},
   "outputs": [],
   "source": []
  }
 ],
 "metadata": {
  "kernelspec": {
   "display_name": "Python 3 (ipykernel)",
   "language": "python",
   "name": "python3"
  },
  "language_info": {
   "codemirror_mode": {
    "name": "ipython",
    "version": 3
   },
   "file_extension": ".py",
   "mimetype": "text/x-python",
   "name": "python",
   "nbconvert_exporter": "python",
   "pygments_lexer": "ipython3",
   "version": "3.8.6"
  }
 },
 "nbformat": 4,
 "nbformat_minor": 5
}
